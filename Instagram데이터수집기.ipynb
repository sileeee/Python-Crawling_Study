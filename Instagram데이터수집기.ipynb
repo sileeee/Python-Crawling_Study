{
  "nbformat": 4,
  "nbformat_minor": 0,
  "metadata": {
    "colab": {
      "name": "Instagram데이터수집기.ipynb",
      "provenance": [],
      "authorship_tag": "ABX9TyPwzUY20CWZrIidWuKxs/Bi",
      "include_colab_link": true
    },
    "kernelspec": {
      "name": "python3",
      "display_name": "Python 3"
    }
  },
  "cells": [
    {
      "cell_type": "markdown",
      "metadata": {
        "id": "view-in-github",
        "colab_type": "text"
      },
      "source": [
        "<a href=\"https://colab.research.google.com/github/sileeee/python_crawling_study/blob/master/Instagram%EB%8D%B0%EC%9D%B4%ED%84%B0%EC%88%98%EC%A7%91%EA%B8%B0.ipynb\" target=\"_parent\"><img src=\"https://colab.research.google.com/assets/colab-badge.svg\" alt=\"Open In Colab\"/></a>"
      ]
    },
    {
      "cell_type": "code",
      "metadata": {
        "id": "4ltvyO9tSJr6"
      },
      "source": [
        "from selenium import webdriver\n",
        "import time\n",
        "# 인스타그램에서 ootd 해시태그 검색결과(https://www.instagram.com/explore/tags/ootd/) 페이지에 접속해서 12개 포스트의 본문 내용을 수집\n",
        "\n",
        "driver = webdriver.Chrome(\"./chromedriver\")\n",
        "driver.get(\"https://www.instagram.com\")\n",
        "\n",
        "time.sleep(1)\n",
        "\n",
        "facebook_box= driver.find_element_by_css_selector(\"div > form > div:nth-child(6)\")\n",
        "facebook_box.click()\n",
        "\n",
        "driver.get(\"https://www.facebook.com/login.php?skip_api_login=1&api_key=124024574287414&kid_directed_site=0&app_id=124024574287414&signed_next=1&next=https%3A%2F%2Fwww.facebook.com%2Fdialog%2Foauth%3Fclient_id%3D124024574287414%26redirect_uri%3Dhttps%253A%252F%252Fwww.instagram.com%252Faccounts%252Fsignup%252F%26state%3D%257B%2522fbLoginKey%2522%253A%25221dzpfw415wuzuk1xvflpe1ofes2c1770v1h11dw29t8vw0f91ewhqhb%2522%252C%2522fbLoginReturnURL%2522%253A%2522%252Fexplore%252Ftags%252Footd%252F%2522%257D%26scope%3Demail%26response_type%3Dcode%252Cgranted_scopes%26locale%3Dko_KR%26ret%3Dlogin%26fbapp_pres%3D0%26logger_id%3D438f4f10-7d2a-4ea3-a6d0-e4b4627e9b86&cancel_url=https%3A%2F%2Fwww.instagram.com%2Faccounts%2Fsignup%2F%3Ferror%3Daccess_denied%26error_code%3D200%26error_description%3DPermissions%2Berror%26error_reason%3Duser_denied%26state%3D%257B%2522fbLoginKey%2522%253A%25221dzpfw415wuzuk1xvflpe1ofes2c1770v1h11dw29t8vw0f91ewhqhb%2522%252C%2522fbLoginReturnURL%2522%253A%2522%252Fexplore%252Ftags%252Footd%252F%2522%257D%23_%3D_&display=page&locale=ko_KR&pl_dbl=0\")\n",
        "\n",
        "#로그인 절차\n",
        "id_facebook = driver.find_element_by_css_selector(\"div > form >div>div>input\")\n",
        "id_facebook.send_keys(\"010********\")\n",
        "pw_facebook = driver.find_element_by_css_selector(\"div > form div input#pass\")\n",
        "pw_facebook.send_keys(\"tl********\")\n",
        "\n",
        "login_box = driver.find_element_by_css_selector(\"div > form div button\")\n",
        "login_box.click()\n",
        "\n",
        "time.sleep(1)\n",
        "\n",
        "driver.get(\"https://www.instagram.com/explore/tags/ootd/\")\n",
        "\n",
        "instagram = driver.find_elements_by_css_selector(\"div.v1Nh3\")\n",
        "instagram = instagram[:12]\n",
        "\n",
        "instagram[1].click()\n",
        "\n",
        "login_bo = driver.find_element_by_css_selector(\"div div div div div div div button.sqdOP.L3NKy.y3zKF div\")\n",
        "login_bo.click()\n",
        "\n",
        "for i in instagram:\n",
        "    i.click()\n",
        "\n",
        "    time.sleep(1)\n",
        "\n",
        "    post = driver.find_element_by_css_selector(\"div.C4VMK span\").text\n",
        "    print(post)\n",
        "\n",
        "    but_close = driver.find_element_by_css_selector(\"button.ckWGn\")\n",
        "    but_close.click()\n"
      ],
      "execution_count": null,
      "outputs": []
    }
  ]
}